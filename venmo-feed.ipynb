{
 "cells": [
  {
   "cell_type": "markdown",
   "metadata": {},
   "source": [
    "# Taking a look at public Venmo feed data\n",
    "\n",
    "Looking at my Venmo feed one day, I got really curious about whether there were discernible trends in Venmo data. Happily, there's a public API, albeit an undocumented one, so I started taking a look. The analysis here, if I'm going to be honest, is halfassed at best, because I just wanted to get something to look at. I'll try to improve this over time, as I can.\n",
    "\n",
    "Let's get some imports out of the way:"
   ]
  },
  {
   "cell_type": "code",
   "execution_count": 109,
   "metadata": {
    "collapsed": false
   },
   "outputs": [],
   "source": [
    "%matplotlib inline\n",
    "import json\n",
    "import requests\n",
    "import sys\n",
    "import matplotlib\n",
    "from matplotlib import pyplot as plt\n",
    "from datetime import datetime\n",
    "from nltk.corpus import stopwords\n",
    "from nltk.tokenize import word_tokenize\n",
    "from nltk.stem import SnowballStemmer\n",
    "from nltk.probability import FreqDist\n",
    "import numpy as np\n",
    "import re\n",
    "\n",
    "import string"
   ]
  },
  {
   "cell_type": "markdown",
   "metadata": {},
   "source": [
    "## Getting the transactions\n",
    "The following function scrapes unique transactions from the public venmo API. The number of transactions is specified by `limit` parameter. This can take a while, because the function is just polling the API until it has the required number. This data collection method limits a lot of what we can infer from this venmo data, because it's definitely not representative in time. A more involved way to do this would be to collect data over a much longer period - a week,or a month, to draw correlations of transaction activity with time. "
   ]
  },
  {
   "cell_type": "code",
   "execution_count": null,
   "metadata": {
    "collapsed": false,
    "scrolled": true
   },
   "outputs": [],
   "source": [
    "VENMO_URL = 'https://venmo.com/api/v5/public'\n",
    "\n",
    "def get_venmo_data(limit):\n",
    "    url = VENMO_URL\n",
    "    transactions = []\n",
    "    existing_ids = set()\n",
    "    \n",
    "    while len(transactions) < limit:\n",
    "        response = json.loads(requests.get(url).text)\n",
    "        response_transactions = response['data']\n",
    "        url = response['paging']['next']\n",
    "        \n",
    "        for transaction in response_transactions:\n",
    "            if transaction['story_id'] not in existing_ids: \n",
    "                transactions.append(transaction)\n",
    "                existing_ids.add(transaction['story_id'])\n",
    "            if len(transactions) >= limit:\n",
    "                break\n",
    "    return transactions\n",
    "    \n",
    "        \n",
    "\n",
    "transactions = get_venmo_data(10000)\n",
    "        "
   ]
  },
  {
   "cell_type": "code",
   "execution_count": 14,
   "metadata": {
    "collapsed": true
   },
   "outputs": [],
   "source": [
    "print(json.dumps(transactions), file=open('transactions.json', 'w'))"
   ]
  },
  {
   "cell_type": "code",
   "execution_count": 2,
   "metadata": {
    "collapsed": false
   },
   "outputs": [],
   "source": [
    "transactions = json.loads(open('transactions.json', 'r').read())"
   ]
  },
  {
   "cell_type": "markdown",
   "metadata": {},
   "source": [
    "I'm being lazy about the parsing of dates here, will update this soon. "
   ]
  },
  {
   "cell_type": "code",
   "execution_count": 17,
   "metadata": {
    "collapsed": true
   },
   "outputs": [],
   "source": [
    "def parse_date(datestring):\n",
    "    return datetime.strptime(datestring, '%Y-%m-%dT%H:%M:%S')"
   ]
  },
  {
   "cell_type": "markdown",
   "metadata": {},
   "source": [
    "## Filtering Emoji\n",
    "\n",
    "The following function attempts to generate a regex that will capture single-character wide emoji (for now). It gets the data from the Unicode specification for emoji, which at the time of writing is at version 5.0. Note that this regex contains redundancies, does not parse modified emoji into their compound form, or look at zero-width joiners. "
   ]
  },
  {
   "cell_type": "code",
   "execution_count": 4,
   "metadata": {
    "collapsed": false
   },
   "outputs": [],
   "source": [
    "def get_emoji_regex():\n",
    "    import re\n",
    "    import requests\n",
    "    def convert_char_range(rng):\n",
    "        if '-' in rng:\n",
    "            return '-'.join([chr(int(char, 16)) for char in rng.split('-')])\n",
    "        else:\n",
    "            return chr(int(rng, 16))\n",
    "    text = requests.get('http://unicode.org/Public/emoji/latest/emoji-data.txt').text\n",
    "    char_ranges = [line.split(';')[0].strip() for line in text.split('\\n') if not (line.startswith('#') or line.strip() == '')]\n",
    "    regex_ranges = [convert_char_range(rng.replace('..', '-')) for rng in char_ranges]\n",
    "    regex_ranges.remove('0-9')\n",
    "    regex = re.compile('[{}]'.format(''.join(regex_ranges)))\n",
    "    return regex"
   ]
  },
  {
   "cell_type": "code",
   "execution_count": 6,
   "metadata": {
    "collapsed": false
   },
   "outputs": [],
   "source": [
    "regex = get_emoji_regex()"
   ]
  },
  {
   "cell_type": "markdown",
   "metadata": {},
   "source": [
    "## Data analysis\n",
    "\n",
    "The following code attempts to map frequency distributions on several variables:\n",
    "- Stemmed words in the messages of the Venmo transactions, as seen in the `message` field. Stopwords and emoji are removed, as are words starting in punctuation. The latter step removes some quirks of the way nltk does word segmentation, like possessive phrases like `\"Sam's\"` being split into `[\"Sam\", \"'s\"]`.\n",
    "- The names of the users involved in the transactions - both the originator and the target. I'm only keeping track of first names here, because I thought that would be the interesting distribution. I'm disregarding targets that indicate things like transfers to bank accounts.\n",
    "- Individual emoji, as determined by the above regex\n",
    "- Profile creation dates of both users involved in the transaction\n",
    "\n",
    "In the succeeding cells, those frequency distributions are plotted out."
   ]
  },
  {
   "cell_type": "code",
   "execution_count": 26,
   "metadata": {
    "collapsed": false
   },
   "outputs": [],
   "source": [
    "messages = [t['message'] for t in transactions]\n",
    "\n",
    "words = FreqDist()\n",
    "names = FreqDist()\n",
    "emoji = FreqDist()\n",
    "num_emoji = 0\n",
    "venmo_signup_dates = []\n",
    "\n",
    "stemmer = SnowballStemmer('english')\n",
    "stop_set = set(stopwords.words('english'))\n",
    "\n",
    "for t in transactions:\n",
    "    names[t['actor']['firstname']] += 1\n",
    "    venmo_signup_dates.append(parse_date(t['actor']['date_created']))\n",
    "    \n",
    "    # at least with this data, there is only one transaction \n",
    "    target = t['transactions'][0]['target']\n",
    "    if 'firstname' in target:\n",
    "        names[t['transactions'][0]['target']['firstname']] += 1\n",
    "    if 'date_created' in target:\n",
    "        venmo_signup_dates.append(parse_date(t['transactions'][0]['target']['date_created']))\n",
    "    \n",
    "    for word in word_tokenize(t['message']):\n",
    "        word = word.lower()\n",
    "        if word in stop_set or word[0] in set(string.punctuation) or  regex.match(word):\n",
    "            continue\n",
    "        stem = stemmer.stem(word)\n",
    "        words[stem] += 1\n",
    "    \n",
    "    for emoji_char in regex.findall(t['message']):\n",
    "        if emoji_char in '0123456789': continue\n",
    "        emoji[emoji_char] += 1"
   ]
  },
  {
   "cell_type": "code",
   "execution_count": 64,
   "metadata": {
    "collapsed": true
   },
   "outputs": [],
   "source": [
    "def plot_datetime_aspect(datetimes, f):\n",
    "    dist = FreqDist(f(d) for d in datetimes)\n",
    "    x = sorted(dist)\n",
    "    y = [dist[i] for i in x]\n",
    "    plt.plot(x,y)"
   ]
  },
  {
   "cell_type": "code",
   "execution_count": 51,
   "metadata": {
    "collapsed": false
   },
   "outputs": [
    {
     "data": {
      "image/png": "[encoded data removed]",
      "text/plain": [
       "<matplotlib.figure.Figure at 0x7fe09964ef60>"
      ]
     },
     "metadata": {},
     "output_type": "display_data"
    }
   ],
   "source": [
    "plot_datetime_aspect(venmo_signup_dates, lambda x: x.year)"
   ]
  },
  {
   "cell_type": "code",
   "execution_count": 72,
   "metadata": {
    "collapsed": false
   },
   "outputs": [
    {
     "data": {
      "image/png": "[encoded data removed]",
      "text/plain": [
       "<matplotlib.figure.Figure at 0x7fe099023550>"
      ]
     },
     "metadata": {},
     "output_type": "display_data"
    }
   ],
   "source": [
    "plot_datetime_aspect(venmo_signup_dates, lambda x: (x.hour + (x.minute//10)/6))"
   ]
  },
  {
   "cell_type": "code",
   "execution_count": 110,
   "metadata": {
    "collapsed": false
   },
   "outputs": [
    {
     "data": {
      "image/png": "[encoded data removed]",
      "text/plain": [
       "<matplotlib.figure.Figure at 0x7fe098f7d0f0>"
      ]
     },
     "metadata": {},
     "output_type": "display_data"
    }
   ],
   "source": [
    "yearmonthmap = {}\n",
    "for dt in venmo_signup_dates:\n",
    "    year = dt.year\n",
    "    month = dt.month\n",
    "    if year in yearmonthmap:\n",
    "        monthmap = yearmonthmap[year]\n",
    "    else:\n",
    "        monthmap = {i:0 for i in range(1,13)}\n",
    "        yearmonthmap[year] = monthmap\n",
    "    monthmap[month] = monthmap.get(month, 0) + 1\n",
    "\n",
    "heatmatrix = np.array([[yearmonthmap[year][month] for month in sorted(yearmonthmap[year])] for year in sorted(yearmonthmap)])\n",
    "heatmap = plt.pcolor(heatmatrix, cmap=matplotlib.cm.Blues)"
   ]
  },
  {
   "cell_type": "markdown",
   "metadata": {},
   "source": [
    "Few surprises in the most common emoji - it's largely food and drink, with the understandable inclusions of gas, cars, and money.\n",
    "\n",
    "The one slight surprise is the skin color modifiers in places 2 and 4. I'm guessing they show up because they apply to a wide variety of other emoji, none of which make the top 20 individually, but cumulatively  get close to the top. "
   ]
  },
  {
   "cell_type": "code",
   "execution_count": 8,
   "metadata": {
    "collapsed": false
   },
   "outputs": [
    {
     "data": {
      "text/plain": [
       "[('🍕', 387),\n",
       " ('🏻', 172),\n",
       " ('💸', 162),\n",
       " ('🏼', 133),\n",
       " ('🌮', 121),\n",
       " ('❤', 111),\n",
       " ('🍻', 111),\n",
       " ('🍺', 110),\n",
       " ('🎉', 109),\n",
       " ('🍷', 105),\n",
       " ('🏀', 102),\n",
       " ('🍴', 99),\n",
       " ('🍔', 96),\n",
       " ('⛽', 93),\n",
       " ('🍣', 91),\n",
       " ('💩', 86),\n",
       " ('🍹', 85),\n",
       " ('🚗', 80),\n",
       " ('🍜', 76),\n",
       " ('🏠', 76)]"
      ]
     },
     "execution_count": 8,
     "metadata": {},
     "output_type": "execute_result"
    }
   ],
   "source": [
    "emoji.most_common(20)"
   ]
  },
  {
   "cell_type": "markdown",
   "metadata": {},
   "source": [
    "The common words show a lot of correlation with the emoji being used - food and drink are prominent. Uber appears in the number two spot at 147 mentions - apparently people really haven't figured out the ride splitting feature. Its rival Lyft on the other hand, doesn't make the top 20, coming in at 22 mentions. \n",
    "\n",
    "From these words, we also see a lot of transactions that might be between roommates - groceries, bills, and rent all make the cut, and are likely also behind the inclusion of \"march\" in the top words, given when this data was gathered."
   ]
  },
  {
   "cell_type": "code",
   "execution_count": 96,
   "metadata": {
    "collapsed": false,
    "scrolled": true
   },
   "outputs": [
    {
     "data": {
      "image/png": "[encoded data removed]",
      "text/plain": [
       "<matplotlib.figure.Figure at 0x7f5a0ac9ac50>"
      ]
     },
     "metadata": {},
     "output_type": "display_data"
    },
    {
     "name": "stdout",
     "output_type": "stream",
     "text": [
      "Uber: 147\n",
      "Lyft: 22\n"
     ]
    }
   ],
   "source": [
    "words.plot(20)\n",
    "print('Uber: {}'.format(words['uber']))\n",
    "print('Lyft: {}'.format(words['lyft']))"
   ]
  },
  {
   "cell_type": "code",
   "execution_count": 86,
   "metadata": {
    "collapsed": false
   },
   "outputs": [
    {
     "data": {
      "text/plain": [
       "[('Michael', 254),\n",
       " ('Ryan', 200),\n",
       " ('Emily', 198),\n",
       " ('Alex', 191),\n",
       " ('Andrew', 187),\n",
       " ('Lauren', 152),\n",
       " ('Matt', 148),\n",
       " ('Chris', 145),\n",
       " ('Sarah', 145),\n",
       " ('Kevin', 144),\n",
       " ('Matthew', 137),\n",
       " ('David', 128),\n",
       " ('Nick', 122),\n",
       " ('Daniel', 121),\n",
       " ('Rachel', 114),\n",
       " ('John', 110),\n",
       " ('Jessica', 103),\n",
       " ('Sam', 102),\n",
       " ('Tyler', 101),\n",
       " ('Katie', 98)]"
      ]
     },
     "execution_count": 86,
     "metadata": {},
     "output_type": "execute_result"
    }
   ],
   "source": [
    "names.most_common(20)"
   ]
  }
 ],
 "metadata": {
  "kernelspec": {
   "display_name": "Python 3",
   "language": "python",
   "name": "python3"
  },
  "language_info": {
   "codemirror_mode": {
    "name": "ipython",
    "version": 3
   },
   "file_extension": ".py",
   "mimetype": "text/x-python",
   "name": "python",
   "nbconvert_exporter": "python",
   "pygments_lexer": "ipython3",
   "version": "3.6.0"
  }
 },
 "nbformat": 4,
 "nbformat_minor": 2
}
